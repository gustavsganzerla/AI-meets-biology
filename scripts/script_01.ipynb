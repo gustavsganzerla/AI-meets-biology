{
 "cells": [
  {
   "cell_type": "code",
   "execution_count": 1,
   "id": "0a5285a2",
   "metadata": {},
   "outputs": [],
   "source": [
    "import os\n",
    "import random\n"
   ]
  },
  {
   "cell_type": "code",
   "execution_count": 9,
   "id": "8ec2f325",
   "metadata": {},
   "outputs": [],
   "source": [
    "###importing data\n",
    "\n",
    "path = '/home/user100/scratch/data/Escherichia_coli_GCF_000005845.2_ASM584v2_upstream.txt'\n",
    "\n",
    "\n",
    "with open(path, 'r') as f:\n",
    "    lines = f.readlines()\n",
    "\n",
    "file_content = [line.strip() for line in lines]\n",
    "\n",
    "###getting only the sequences\n",
    "promoters = []\n",
    "for item in file_content:\n",
    "    aux = item.split('\\t')\n",
    "    \n",
    "    if len(aux) > 1:\n",
    "        promoters.append(aux[8])"
   ]
  },
  {
   "cell_type": "code",
   "execution_count": 10,
   "id": "49056b96",
   "metadata": {},
   "outputs": [],
   "source": [
    "###we now need control (negative data) to classify\n",
    "###let's do it simple and shuffle the original sequences\n",
    "\n",
    "control = []\n",
    "\n",
    "for promoter in promoters:\n",
    "    char_list = list(promoter)\n",
    "    random.shuffle(char_list)\n",
    "    control.append(''.join(char_list))"
   ]
  },
  {
   "cell_type": "code",
   "execution_count": 11,
   "id": "85e2c150",
   "metadata": {},
   "outputs": [],
   "source": [
    "###now we need to codify gene DNA information in numeric attributes\n",
    "###for that, we will use dna duplex stability\n",
    "###there is also orthogonal parametrization\n",
    "\n",
    "output_file = '/home/user100/scratch/data/promoters.csv'\n",
    "output_file2 = '/home/user100/scratch/data/control.csv'\n",
    "\n",
    "\n",
    "dds_lookup = {\n",
    "    'AA': -1,\n",
    "    'AT': -0.88,\n",
    "    'TA': -0.58,\n",
    "    'AG': -1.3,\n",
    "    'GA': -1.3,\n",
    "    'TT': -1,\n",
    "    'AC': -1.45,\n",
    "    'CA': -1.45,\n",
    "    'TG': -1.44,\n",
    "    'GT': -1.44,\n",
    "    'TC': -1.28,\n",
    "    'CT': -1.28,\n",
    "    'CC': -1.84,\n",
    "    'CG': -2.24,\n",
    "    'GC': -2.27,\n",
    "    'GG': -1.84\n",
    "}\n",
    "\n",
    "###first, lets start with the promoters\n",
    "\n",
    "for promoter in promoters:\n",
    "    stability_list = [dds_lookup.get(promoter[i:i+2].upper(), 0) for i in range(0, len(promoter)-1)]\n",
    "    \n",
    "\n",
    "    with open(output_file, 'a+') as out:\n",
    "        out.write(','.join(map(str, stability_list)) + '\\n')\n",
    "        \n",
    "###repeat the process for control sequences\n",
    "list_control = []\n",
    "for promoter in control:\n",
    "    stability_list = [dds_lookup.get(promoter[i:i+2].upper(), 0) for i in range(0, len(promoter)-1)]\n",
    "    \n",
    "\n",
    "    with open(output_file2, 'a+') as out:\n",
    "        out.write(','.join(map(str, stability_list)) + '\\n')\n",
    "    "
   ]
  }
 ],
 "metadata": {
  "kernelspec": {
   "display_name": "Python 3 (ipykernel)",
   "language": "python",
   "name": "python3"
  },
  "language_info": {
   "codemirror_mode": {
    "name": "ipython",
    "version": 3
   },
   "file_extension": ".py",
   "mimetype": "text/x-python",
   "name": "python",
   "nbconvert_exporter": "python",
   "pygments_lexer": "ipython3",
   "version": "3.9.6"
  }
 },
 "nbformat": 4,
 "nbformat_minor": 5
}
